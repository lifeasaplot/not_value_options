{
  "nbformat": 4,
  "nbformat_minor": 0,
  "metadata": {
    "colab": {
      "name": "Keras-Deep-Lizard.ipynb",
      "provenance": [],
      "collapsed_sections": [],
      "authorship_tag": "ABX9TyM3cKsrifkWcAFljlxWqn+I",
      "include_colab_link": true
    },
    "kernelspec": {
      "name": "python3",
      "display_name": "Python 3"
    },
    "language_info": {
      "name": "python"
    }
  },
  "cells": [
    {
      "cell_type": "markdown",
      "metadata": {
        "id": "view-in-github",
        "colab_type": "text"
      },
      "source": [
        "<a href=\"https://colab.research.google.com/github/lifeasaplot/not_value_options/blob/main/Keras_Deep_Lizard_learning-ML.ipynb\" target=\"_parent\"><img src=\"https://colab.research.google.com/assets/colab-badge.svg\" alt=\"Open In Colab\"/></a>"
      ]
    },
    {
      "cell_type": "code",
      "execution_count": 1,
      "metadata": {
        "id": "v4cz8f8BJZmi"
      },
      "outputs": [],
      "source": [
        "## Youtube URL = https://www.youtube.com/watch?v=qFJeN9V1ZsI"
      ]
    },
    {
      "cell_type": "code",
      "source": [
        "## Globals\n",
        "# useful_links"
      ],
      "metadata": {
        "id": "BmXVg7j1LFNN"
      },
      "execution_count": 6,
      "outputs": []
    },
    {
      "cell_type": "code",
      "source": [
        "import numpy as np\n",
        "from random import randint\n",
        "from sklearn.utils import shuffle\n",
        "from sklearn.preprocessing import MinMaxScaler"
      ],
      "metadata": {
        "id": "HVeg9O2TLF0V"
      },
      "execution_count": 7,
      "outputs": []
    },
    {
      "cell_type": "markdown",
      "source": [
        "### Example Data\n",
        "- An experiemental drug was tested on individuals from ages 13 to 100 in a clinical trial.\n",
        "- The trial had 2100 participants. Half were under 65 years old, half were 65 years or older.\n",
        "- Around 95% of patients 65 or older experienced side effects.\n",
        "- Around 95% of patients under 65 experienced no side effects."
      ],
      "metadata": {
        "id": "6X2Qtrk5QvjE"
      }
    },
    {
      "cell_type": "code",
      "source": [
        "train_labels = []\n",
        "train_samples = []"
      ],
      "metadata": {
        "id": "JxhKN6QGQa8_"
      },
      "execution_count": 8,
      "outputs": []
    },
    {
      "cell_type": "code",
      "source": [
        "for i in range(50):\n",
        "    # the ~5% of younger individuals who did experience side effects\n",
        "    random_younger = randint(13, 64)\n",
        "    train_samples.append(random_younger)\n",
        "    train_labels.append(1)\n",
        "    \n",
        "    # the ~5% of older individuals who did not experience side effects\n",
        "    random_older = randint(65,100)\n",
        "    train_samples.append(random_older)\n",
        "    train_labels.append(0)\n",
        "\n",
        "for i in range(1000):\n",
        "    # the ~95% of younger individuals who did not experience side effects\n",
        "    random_younger = randint(13,64)\n",
        "    train_samples.append(random_younger)\n",
        "    train_labels.append(0)\n",
        "    \n",
        "    # the ~95% of older individuals who did experience side effects\n",
        "    random_older = randint(65,100)\n",
        "    train_samples.append(random_older)\n",
        "    train_labels.append(1)"
      ],
      "metadata": {
        "id": "8TDS-1hhQcf3"
      },
      "execution_count": 9,
      "outputs": []
    },
    {
      "cell_type": "code",
      "source": [
        "train_labels = np.array(train_labels)\n",
        "train_samples = np.array(train_samples)\n",
        "train_labels, train_samples = shuffle(train_labels, train_samples)"
      ],
      "metadata": {
        "id": "dbqyshilQfWI"
      },
      "execution_count": 10,
      "outputs": []
    },
    {
      "cell_type": "code",
      "source": [
        "scaler = MinMaxScaler(feature_range=(0,1))\n",
        "scaled_train_samples = scaler.fit_transform(train_samples.reshape(-1,1))"
      ],
      "metadata": {
        "id": "kMDO526KQrWh"
      },
      "execution_count": 11,
      "outputs": []
    },
    {
      "cell_type": "markdown",
      "source": [
        "### Simple tf.keras Sequential Model"
      ],
      "metadata": {
        "id": "im6CNfVySIwC"
      }
    },
    {
      "cell_type": "code",
      "source": [
        "import tensorflow as tf\n",
        "from tensorflow import keras\n",
        "from tensorflow.keras.models import Sequential\n",
        "from tensorflow.keras.layers import Activation, Dense\n",
        "from tensorflow.keras.optimizers import Adam\n",
        "from tensorflow.keras.metrics import categorical_crossentropy"
      ],
      "metadata": {
        "id": "EnjrnBm4SJ90"
      },
      "execution_count": 14,
      "outputs": []
    },
    {
      "cell_type": "code",
      "source": [
        "model = Sequential([\n",
        "    Dense(units=16, input_shape=(1,), activation='relu'),\n",
        "    Dense(units=32, activation='relu'),\n",
        "    Dense(units=2, activation='softmax')\n",
        "])"
      ],
      "metadata": {
        "id": "etOZGqlHSeeZ"
      },
      "execution_count": 15,
      "outputs": []
    },
    {
      "cell_type": "code",
      "source": [
        "model.summary()"
      ],
      "metadata": {
        "colab": {
          "base_uri": "https://localhost:8080/"
        },
        "id": "aFz0tPr7T1Aq",
        "outputId": "2cb49a55-b374-48bf-d30f-54ac65485f43"
      },
      "execution_count": 16,
      "outputs": [
        {
          "output_type": "stream",
          "name": "stdout",
          "text": [
            "Model: \"sequential\"\n",
            "_________________________________________________________________\n",
            " Layer (type)                Output Shape              Param #   \n",
            "=================================================================\n",
            " dense (Dense)               (None, 16)                32        \n",
            "                                                                 \n",
            " dense_1 (Dense)             (None, 32)                544       \n",
            "                                                                 \n",
            " dense_2 (Dense)             (None, 2)                 66        \n",
            "                                                                 \n",
            "=================================================================\n",
            "Total params: 642\n",
            "Trainable params: 642\n",
            "Non-trainable params: 0\n",
            "_________________________________________________________________\n"
          ]
        }
      ]
    },
    {
      "cell_type": "code",
      "source": [
        "model.compile(optimizer=Adam(learning_rate=0.0001), \n",
        "              loss='sparse_categorical_crossentropy', \n",
        "              metrics=['accuracy'])"
      ],
      "metadata": {
        "id": "Hplf5yExUde5"
      },
      "execution_count": 20,
      "outputs": []
    },
    {
      "cell_type": "code",
      "source": [
        "model.fit(x=scaled_train_samples,\n",
        "          y=train_labels,\n",
        "          batch_size=10,\n",
        "          epochs=30,\n",
        "          shuffle=True,\n",
        "          verbose=2)"
      ],
      "metadata": {
        "colab": {
          "base_uri": "https://localhost:8080/"
        },
        "id": "FQ-mXSzGUutw",
        "outputId": "7e80dc44-ac67-4cfd-cea2-f637ee7dd0fd"
      },
      "execution_count": 21,
      "outputs": [
        {
          "output_type": "stream",
          "name": "stdout",
          "text": [
            "Epoch 1/30\n",
            "210/210 - 1s - loss: 0.6394 - accuracy: 0.5543 - 1s/epoch - 5ms/step\n",
            "Epoch 2/30\n",
            "210/210 - 0s - loss: 0.6186 - accuracy: 0.6243 - 291ms/epoch - 1ms/step\n",
            "Epoch 3/30\n",
            "210/210 - 0s - loss: 0.5966 - accuracy: 0.6762 - 291ms/epoch - 1ms/step\n",
            "Epoch 4/30\n",
            "210/210 - 0s - loss: 0.5741 - accuracy: 0.7152 - 296ms/epoch - 1ms/step\n",
            "Epoch 5/30\n",
            "210/210 - 0s - loss: 0.5505 - accuracy: 0.7481 - 295ms/epoch - 1ms/step\n",
            "Epoch 6/30\n",
            "210/210 - 0s - loss: 0.5255 - accuracy: 0.7810 - 285ms/epoch - 1ms/step\n",
            "Epoch 7/30\n",
            "210/210 - 0s - loss: 0.4999 - accuracy: 0.8033 - 282ms/epoch - 1ms/step\n",
            "Epoch 8/30\n",
            "210/210 - 0s - loss: 0.4732 - accuracy: 0.8238 - 283ms/epoch - 1ms/step\n",
            "Epoch 9/30\n",
            "210/210 - 0s - loss: 0.4436 - accuracy: 0.8543 - 269ms/epoch - 1ms/step\n",
            "Epoch 10/30\n",
            "210/210 - 0s - loss: 0.4172 - accuracy: 0.8724 - 278ms/epoch - 1ms/step\n",
            "Epoch 11/30\n",
            "210/210 - 0s - loss: 0.3948 - accuracy: 0.8790 - 280ms/epoch - 1ms/step\n",
            "Epoch 12/30\n",
            "210/210 - 0s - loss: 0.3748 - accuracy: 0.8986 - 299ms/epoch - 1ms/step\n",
            "Epoch 13/30\n",
            "210/210 - 0s - loss: 0.3578 - accuracy: 0.9043 - 293ms/epoch - 1ms/step\n",
            "Epoch 14/30\n",
            "210/210 - 0s - loss: 0.3433 - accuracy: 0.9062 - 279ms/epoch - 1ms/step\n",
            "Epoch 15/30\n",
            "210/210 - 0s - loss: 0.3311 - accuracy: 0.9200 - 286ms/epoch - 1ms/step\n",
            "Epoch 16/30\n",
            "210/210 - 0s - loss: 0.3208 - accuracy: 0.9205 - 266ms/epoch - 1ms/step\n",
            "Epoch 17/30\n",
            "210/210 - 0s - loss: 0.3121 - accuracy: 0.9252 - 272ms/epoch - 1ms/step\n",
            "Epoch 18/30\n",
            "210/210 - 0s - loss: 0.3047 - accuracy: 0.9252 - 271ms/epoch - 1ms/step\n",
            "Epoch 19/30\n",
            "210/210 - 0s - loss: 0.2982 - accuracy: 0.9276 - 290ms/epoch - 1ms/step\n",
            "Epoch 20/30\n",
            "210/210 - 0s - loss: 0.2929 - accuracy: 0.9348 - 284ms/epoch - 1ms/step\n",
            "Epoch 21/30\n",
            "210/210 - 0s - loss: 0.2882 - accuracy: 0.9338 - 282ms/epoch - 1ms/step\n",
            "Epoch 22/30\n",
            "210/210 - 0s - loss: 0.2840 - accuracy: 0.9338 - 276ms/epoch - 1ms/step\n",
            "Epoch 23/30\n",
            "210/210 - 0s - loss: 0.2806 - accuracy: 0.9348 - 276ms/epoch - 1ms/step\n",
            "Epoch 24/30\n",
            "210/210 - 0s - loss: 0.2774 - accuracy: 0.9338 - 271ms/epoch - 1ms/step\n",
            "Epoch 25/30\n",
            "210/210 - 0s - loss: 0.2746 - accuracy: 0.9367 - 265ms/epoch - 1ms/step\n",
            "Epoch 26/30\n",
            "210/210 - 0s - loss: 0.2720 - accuracy: 0.9438 - 290ms/epoch - 1ms/step\n",
            "Epoch 27/30\n",
            "210/210 - 0s - loss: 0.2703 - accuracy: 0.9386 - 293ms/epoch - 1ms/step\n",
            "Epoch 28/30\n",
            "210/210 - 0s - loss: 0.2682 - accuracy: 0.9400 - 280ms/epoch - 1ms/step\n",
            "Epoch 29/30\n",
            "210/210 - 0s - loss: 0.2663 - accuracy: 0.9405 - 282ms/epoch - 1ms/step\n",
            "Epoch 30/30\n",
            "210/210 - 0s - loss: 0.2648 - accuracy: 0.9414 - 289ms/epoch - 1ms/step\n"
          ]
        },
        {
          "output_type": "execute_result",
          "data": {
            "text/plain": [
              "<keras.callbacks.History at 0x7f46d9ee6190>"
            ]
          },
          "metadata": {},
          "execution_count": 21
        }
      ]
    },
    {
      "cell_type": "code",
      "source": [
        ""
      ],
      "metadata": {
        "id": "kmPvH_ODVBgL"
      },
      "execution_count": null,
      "outputs": []
    }
  ]
}